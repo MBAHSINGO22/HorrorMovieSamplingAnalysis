{
 "cells": [
  {
   "cell_type": "code",
   "execution_count": 1,
   "id": "586e98c5",
   "metadata": {},
   "outputs": [],
   "source": [
    "import pandas as pd\n",
    "import matplotlib.pyplot as plt\n",
    "import numpy as np\n",
    "import random\n"
   ]
  },
  {
   "cell_type": "code",
   "execution_count": null,
   "id": "52e0a16e",
   "metadata": {},
   "outputs": [
    {
     "name": "stdout",
     "output_type": "stream",
     "text": [
      "<class 'pandas.core.frame.DataFrame'>\n",
      "RangeIndex: 32540 entries, 0 to 32539\n",
      "Data columns (total 20 columns):\n",
      " #   Column             Non-Null Count  Dtype  \n",
      "---  ------             --------------  -----  \n",
      " 0   id                 32540 non-null  int64  \n",
      " 1   original_title     32540 non-null  object \n",
      " 2   title              32540 non-null  object \n",
      " 3   original_language  32540 non-null  object \n",
      " 4   overview           31254 non-null  object \n",
      " 5   tagline            12706 non-null  object \n",
      " 6   release_date       32540 non-null  object \n",
      " 7   poster_path        28066 non-null  object \n",
      " 8   popularity         32540 non-null  float64\n",
      " 9   vote_count         32540 non-null  int64  \n",
      " 10  vote_average       32540 non-null  float64\n",
      " 11  budget             32540 non-null  int64  \n",
      " 12  revenue            32540 non-null  int64  \n",
      " 13  runtime            32540 non-null  int64  \n",
      " 14  status             32540 non-null  object \n",
      " 15  adult              32540 non-null  bool   \n",
      " 16  backdrop_path      13545 non-null  object \n",
      " 17  genre_names        32540 non-null  object \n",
      " 18  collection         2306 non-null   float64\n",
      " 19  collection_name    2306 non-null   object \n",
      "dtypes: bool(1), float64(3), int64(5), object(11)\n",
      "memory usage: 4.7+ MB\n"
     ]
    }
   ],
   "source": [
    "# Langkah 1: Memuat dataset\n",
    "# Menggunakan pandas untuk membaca file CSV dan mencari tahu kolom, tipe datanya yang ada di dataset\n",
    "df = pd.read_csv('horror_movies.csv') \n",
    "df.info()\n"
   ]
  },
  {
   "cell_type": "code",
   "execution_count": null,
   "id": "65a767f8",
   "metadata": {},
   "outputs": [],
   "source": [
    "# Langkah 2: Pembersihan data\n",
    "# Mengganti nilai 0 pada kolom numerik tertentu dengan NaN untuk pembersihan\n",
    "numeric_columns = ['popularity', 'vote_average', 'budget', 'revenue', 'runtime']\n",
    "for col in numeric_columns:\n",
    "    df[col] = df[col].replace(0, np.nan)\n",
    "\n",
    "# Menangani nilai yang hilang dengan mengisi NaN dengan median untuk kolom numerik\n",
    "for col in numeric_columns:\n",
    "    df[col] = df[col].fillna(df[col].median())"
   ]
  },
  {
   "cell_type": "code",
   "execution_count": null,
   "id": "7f49f080",
   "metadata": {},
   "outputs": [],
   "source": [
    "# Langkah 3: Simple Random Sampling\n",
    "# Menentukan ukuran sampel (30% dari total data)\n",
    "sample_size = int(len(df) * 0.3)\n",
    "random.seed(42)  \n",
    "sampled_df = df.sample(n=sample_size, random_state=42)"
   ]
  },
  {
   "cell_type": "code",
   "execution_count": null,
   "id": "fb463181",
   "metadata": {},
   "outputs": [
    {
     "name": "stdout",
     "output_type": "stream",
     "text": [
      "Statistik Deskriptif dari Sampel:\n",
      "\n",
      "Popularity:\n",
      "  Mean: 3.83\n",
      "  Median: 0.84\n",
      "  Std Dev: 23.03\n",
      "\n",
      "Vote Average:\n",
      "  Mean: 5.17\n",
      "  Median: 5.20\n",
      "  Std Dev: 1.43\n"
     ]
    }
   ],
   "source": [
    "# Langkah 4: Menghitung statistik deskriptif\n",
    "# Statistik untuk kolom 'popularity' dan 'vote_average'\n",
    "stats = {\n",
    "    'Popularity': {\n",
    "        'Mean': sampled_df['popularity'].mean(),\n",
    "        'Median': sampled_df['popularity'].median(),\n",
    "        'Std Dev': sampled_df['popularity'].std()\n",
    "    },\n",
    "    'Vote Average': {\n",
    "        'Mean': sampled_df['vote_average'].mean(),\n",
    "        'Median': sampled_df['vote_average'].median(),\n",
    "        'Std Dev': sampled_df['vote_average'].std()\n",
    "    }\n",
    "}\n",
    "\n",
    "# Menampilkan statistik\n",
    "print(\"Statistik Deskriptif dari Sampel:\")\n",
    "for key, value in stats.items():\n",
    "    print(f\"\\n{key}:\")\n",
    "    for stat, val in value.items():\n",
    "        print(f\"  {stat}: {val:.2f}\")"
   ]
  },
  {
   "cell_type": "code",
   "execution_count": null,
   "id": "e3eceace",
   "metadata": {},
   "outputs": [],
   "source": [
    "# Langkah 5: Visualisasi data\n",
    "# Membuat histogram untuk 'popularity' dan 'vote_average'\n",
    "plt.figure(figsize=(12, 5))\n",
    "\n",
    "# Histogram untuk Popularity\n",
    "plt.subplot(1, 2, 1)\n",
    "plt.hist(sampled_df['popularity'], bins=20, color='skyblue', edgecolor='black')\n",
    "plt.title('Distribusi Popularitas (Sampel)')\n",
    "plt.xlabel('Popularity')\n",
    "plt.ylabel('Frekuensi')\n",
    "plt.grid(True)\n",
    "\n",
    "# Histogram untuk Vote Average\n",
    "plt.subplot(1, 2, 2)\n",
    "plt.hist(sampled_df['vote_average'], bins=20, color='salmon', edgecolor='black')\n",
    "plt.title('Distribusi Vote Average (Sampel)')\n",
    "plt.xlabel('Vote Average')\n",
    "plt.ylabel('Frekuensi')\n",
    "plt.grid(True)\n",
    "\n",
    "plt.tight_layout()\n",
    "\n",
    "# Menyimpan visualisasi\n",
    "plt.savefig('horror_movies_distribution.png')\n",
    "plt.close()"
   ]
  }
 ],
 "metadata": {
  "kernelspec": {
   "display_name": "Python 3",
   "language": "python",
   "name": "python3"
  },
  "language_info": {
   "codemirror_mode": {
    "name": "ipython",
    "version": 3
   },
   "file_extension": ".py",
   "mimetype": "text/x-python",
   "name": "python",
   "nbconvert_exporter": "python",
   "pygments_lexer": "ipython3",
   "version": "3.12.2"
  }
 },
 "nbformat": 4,
 "nbformat_minor": 5
}
